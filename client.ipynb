{
 "cells": [
  {
   "cell_type": "code",
   "execution_count": 123,
   "id": "9be5a4a8",
   "metadata": {},
   "outputs": [],
   "source": [
    "import os\n",
    "import torch\n",
    "import torchvision\n",
    "from torch.utils.data import DataLoader, TensorDataset"
   ]
  },
  {
   "cell_type": "code",
   "execution_count": 124,
   "id": "b81e695b",
   "metadata": {},
   "outputs": [],
   "source": [
    "# For simple regression problem\n",
    "TRAINING_POINTS = 1000"
   ]
  },
  {
   "cell_type": "code",
   "execution_count": 125,
   "id": "d1de497f",
   "metadata": {
    "lines_to_next_cell": 1
   },
   "outputs": [
    {
     "name": "stdout",
     "output_type": "stream",
     "text": [
      "Running on the CPU\n"
     ]
    }
   ],
   "source": [
    "# With this block, we don't need to set device=DEVICE for every tensor.\n",
    "# But you will still need to avoid accidentally getting int types instead of floating-point types.\n",
    "torch.set_default_dtype(torch.float32)\n",
    "if torch.cuda.is_available():\n",
    "     torch.set_default_device(0)\n",
    "     print(\"Running on the GPU\")\n",
    "else:\n",
    "     print(\"Running on the CPU\")"
   ]
  },
  {
   "cell_type": "code",
   "execution_count": 126,
   "id": "29b912d6",
   "metadata": {
    "lines_to_next_cell": 1
   },
   "outputs": [],
   "source": [
    "def create_linear_training_data():\n",
    "    \"\"\"\n",
    "    This method simply rotates points in a 2D space.\n",
    "    Be sure to use MSE in the place of the final softmax layer before testing on this\n",
    "    data!\n",
    "    :return: (x,y) the dataset. x is a torch tensor where columns are training samples and\n",
    "             y is a torch tensor where each column is an output sample, rotated 90 degrees \n",
    "             in 2d space from the input point. \n",
    "    \"\"\"\n",
    "    x = torch.randn((2, TRAINING_POINTS))\n",
    "    x1 = x[0:1, :].clone()\n",
    "    x2 = x[1:2, :]\n",
    "    y = torch.cat((-x2, x1), axis=0)\n",
    "    return x.T, y.T"
   ]
  },
  {
   "cell_type": "code",
   "execution_count": 127,
   "id": "ae62f59a",
   "metadata": {
    "lines_to_next_cell": 1
   },
   "outputs": [],
   "source": [
    "def create_folded_training_data():\n",
    "    \"\"\"\n",
    "    This method introduces a single non-linear fold into the sort of data created by create_linear_training_data.\n",
    "    Be sure to use MSE in the place of the final softmax layer before testing on this\n",
    "    data!\n",
    "    :return: (x,y) the dataset. x is a torch tensor where columns are training samples and\n",
    "             y is a torch tensor where columns output samples. \n",
    "    \"\"\"\n",
    "    x = torch.randn((2, TRAINING_POINTS))\n",
    "    x1 = x[0:1, :].clone()\n",
    "    x2 = x[1:2, :]\n",
    "    x2 *= 2 * ((x2 > 0).float() - 0.5)\n",
    "    y = torch.cat((-x2, x1), axis=0)\n",
    "    return x, y"
   ]
  },
  {
   "cell_type": "code",
   "execution_count": 128,
   "id": "e4fa7df6",
   "metadata": {
    "lines_to_next_cell": 1
   },
   "outputs": [],
   "source": [
    "def create_square():\n",
    "    \"\"\"\n",
    "    This is a square example in which the challenge is to determine\n",
    "    if the points are inside or outside of a square in 2d space.\n",
    "    insideness is true if the points are inside the square.\n",
    "    :return: (points, insideness) the dataset. points is a 2xN array of points and insideness is true if the point is inside the square.\n",
    "    \"\"\"\n",
    "    win_x = [2,2,3,3]\n",
    "    win_y = [1,2,2,1]\n",
    "    win = torch.tensor([win_x,win_y],dtype=torch.float32)\n",
    "    win_rot = torch.cat((win[:,1:],win[:,0:1]),axis=1)\n",
    "    t = win_rot - win # edges tangent along side of poly\n",
    "    rotation = torch.tensor([[0, 1],[-1,0]],dtype=torch.float32)\n",
    "    normal = rotation @ t # normal vectors to each side of poly\n",
    "        # torch.matmul(rotation,t) # Same thing\n",
    "\n",
    "    points = torch.rand((2,2000),dtype = torch.float32)\n",
    "    points = 4*points\n",
    "\n",
    "    vectors = points[:,np.newaxis,:] - win[:,:,np.newaxis] # reshape to fill origin\n",
    "    insideness = (normal[:,:,np.newaxis] * vectors).sum(axis=0)\n",
    "    insideness = insideness.T\n",
    "    insideness = insideness > 0\n",
    "    insideness = insideness.all(axis=1)\n",
    "    return points, insideness"
   ]
  },
  {
   "cell_type": "code",
   "execution_count": 129,
   "id": "e4682a74",
   "metadata": {},
   "outputs": [],
   "source": [
    "def relu(x):\n",
    "    return torch.maximum(x, torch.tensor(0.0))"
   ]
  },
  {
   "cell_type": "code",
   "execution_count": 130,
   "id": "aa7244b5",
   "metadata": {},
   "outputs": [],
   "source": [
    "def compute_loss(Y_pred, Y_true, W1, W2, lambda_l2):\n",
    "    \"\"\"Computes MSE loss with L2 regularization.\"\"\"\n",
    "    mse_loss = torch.mean((Y_pred - Y_true) ** 2)\n",
    "    l2_reg = lambda_l2 * (torch.sum(W1 ** 2) + torch.sum(W2 ** 2))\n",
    "    return mse_loss + l2_reg"
   ]
  },
  {
   "cell_type": "code",
   "execution_count": null,
   "id": "2626370f",
   "metadata": {},
   "outputs": [
    {
     "name": "stdout",
     "output_type": "stream",
     "text": [
      "Training...\n",
      "Epoch 0, Training Loss: 1.0402159094810486\n",
      "Epoch 1, Training Loss: 1.0077448729425669\n",
      "Epoch 2, Training Loss: 0.9952698461711407\n",
      "Epoch 3, Training Loss: 0.980058241635561\n",
      "Epoch 4, Training Loss: 0.9719605036079884\n",
      "Epoch 5, Training Loss: 0.957145543769002\n",
      "Epoch 6, Training Loss: 0.9221312198787928\n",
      "Epoch 7, Training Loss: 0.8888150630518794\n",
      "Epoch 8, Training Loss: 0.8333533406257629\n",
      "Epoch 9, Training Loss: 0.7742444928735495\n",
      "Epoch 10, Training Loss: 0.7073599752038717\n",
      "Epoch 11, Training Loss: 0.6305689550936222\n",
      "Epoch 12, Training Loss: 0.5646423613652587\n",
      "Epoch 13, Training Loss: 0.4805043274536729\n",
      "Epoch 14, Training Loss: 0.3991786655969918\n",
      "Epoch 15, Training Loss: 0.33914295630529523\n",
      "Epoch 16, Training Loss: 0.27519425516948104\n",
      "Epoch 17, Training Loss: 0.23103402415290475\n",
      "Epoch 18, Training Loss: 0.1952054927824065\n",
      "Epoch 19, Training Loss: 0.15977946831844747\n",
      "Epoch 20, Training Loss: 0.13270296342670918\n",
      "Epoch 21, Training Loss: 0.12031171610578895\n",
      "Epoch 22, Training Loss: 0.10064686508849263\n",
      "Epoch 23, Training Loss: 0.0925937321735546\n",
      "Epoch 24, Training Loss: 0.08427230373490602\n",
      "Epoch 25, Training Loss: 0.07904533017426729\n",
      "Epoch 26, Training Loss: 0.07381122570950538\n",
      "Epoch 27, Training Loss: 0.07115153246559203\n",
      "Epoch 28, Training Loss: 0.06582612928468734\n",
      "Epoch 29, Training Loss: 0.060849086788948625\n",
      "Epoch 30, Training Loss: 0.05824492505053058\n",
      "Epoch 31, Training Loss: 0.055294151592534035\n",
      "Epoch 32, Training Loss: 0.053743468481116\n",
      "Epoch 33, Training Loss: 0.05089235521154478\n",
      "Epoch 34, Training Loss: 0.04854706459445879\n",
      "Epoch 35, Training Loss: 0.04775415314361453\n",
      "Epoch 36, Training Loss: 0.044683383661322296\n",
      "Epoch 37, Training Loss: 0.044250097067561\n",
      "Epoch 38, Training Loss: 0.04136362607823685\n",
      "Epoch 39, Training Loss: 0.04019150449312292\n",
      "\n",
      "Final Training Loss: 0.04019150449312292\n",
      "Final Test Loss: 0.03777388110756874\n",
      "Predicted Test Output (first 5): tensor([[-0.8025, -1.0005],\n",
      "        [ 1.0210, -0.0218],\n",
      "        [ 1.6982,  0.3171],\n",
      "        [ 0.7571, -0.9803],\n",
      "        [ 0.3995,  1.3350]], grad_fn=<SliceBackward0>)\n",
      "True Test Output (first 5): tensor([[-0.8280, -0.9565],\n",
      "        [ 0.8832, -0.0334],\n",
      "        [ 1.7055,  0.0754],\n",
      "        [ 0.6786, -0.9204],\n",
      "        [ 0.4126,  1.5293]])\n",
      "Computed W * M: tensor([[ 0.0137,  1.0843],\n",
      "        [-1.1760, -0.0224]], grad_fn=<MmBackward0>)\n"
     ]
    }
   ],
   "source": [
    "if __name__ == '__main__':\n",
    "    # For this week's lab, you can likely keep ALL your code\n",
    "    # right here, with all your variables in the global scope \n",
    "    # for simplified debugging.\n",
    "    #\n",
    "    # The code in this section should NOT be in a helper method.\n",
    "    # Similarly, the output of each sub-layer and activation function should\n",
    "    # be in this scope.\n",
    "\n",
    "    # TODO: You may wish to make each TODO below its own pynb cell.\n",
    "    # TODO: Build your network.\n",
    "    # Hyperparameters\n",
    "    lambda_l2 = 0.001  # Lower L2 regularization for better generalization\n",
    "    learning_rate = 0.01  # Prevent instability from high learning rate\n",
    "    num_epochs = 40\n",
    "    batch_size = 32 \n",
    "\n",
    "    # Initialize network parameters\n",
    "    input_dim = 2\n",
    "    hidden_dim = 3\n",
    "    output_dim = 2\n",
    "\n",
    "    W1 = torch.randn(input_dim, hidden_dim) * 0.1  # Normal distribution \n",
    "    b1 = torch.zeros(hidden_dim)  # Zero bias\n",
    "    W2 = torch.randn(hidden_dim, output_dim) * 0.1  # Normal distribution \n",
    "    b2 = torch.zeros(output_dim)  # Zero bias\n",
    "\n",
    "    W1.requires_grad = True\n",
    "    b1.requires_grad = True\n",
    "    W2.requires_grad = True\n",
    "    b2.requires_grad = True\n",
    "\n",
    "    # Create training data\n",
    "    x_train, y_train = create_linear_training_data()\n",
    "    x_test, y_test = create_linear_training_data()  \n",
    "\n",
    "    # Create dataloader for batch processing\n",
    "    train_dataset = TensorDataset(x_train, y_train)\n",
    "    train_loader = DataLoader(train_dataset, batch_size=batch_size, shuffle=True)\n",
    "\n",
    "    training_loss = []\n",
    "    test_loss = []\n",
    "\n",
    "    print(\"Training...\")\n",
    "    for epoch in range(num_epochs):\n",
    "        epoch_loss = 0\n",
    "\n",
    "        for batch_x, batch_y in train_loader:\n",
    "            # Forward pass\n",
    "            Z1 = batch_x @ W1 + b1  \n",
    "            A1 = relu(Z1)           \n",
    "            Z2 = A1 @ W2 + b2  \n",
    "            Y_pred = Z2  \n",
    "\n",
    "            # Compute loss\n",
    "            total_loss = compute_loss(Y_pred, batch_y, W1, W2, lambda_l2)\n",
    "            epoch_loss += total_loss.item()\n",
    "\n",
    "            # Backward pass\n",
    "            total_loss.backward()\n",
    "\n",
    "            # Update weights using gradient descent\n",
    "            with torch.no_grad():\n",
    "                W1 -= learning_rate * W1.grad\n",
    "                b1 -= learning_rate * b1.grad\n",
    "                W2 -= learning_rate * W2.grad\n",
    "                b2 -= learning_rate * b2.grad\n",
    "\n",
    "                # Reset gradients\n",
    "                W1.grad.zero_()\n",
    "                b1.grad.zero_()\n",
    "                W2.grad.zero_()\n",
    "                b2.grad.zero_()\n",
    "\n",
    "        # store epoch loss\n",
    "        training_loss.append(epoch_loss / len(train_loader))\n",
    "\n",
    "        # compute test loss\n",
    "        Z1_test = x_test @ W1 + b1  \n",
    "        A1_test = relu(Z1_test)\n",
    "        Z2_test = A1_test @ W2 + b2\n",
    "        Y_pred_test = Z2_test  \n",
    "        test_loss.append(compute_loss(Y_pred_test, y_test, W1, W2, lambda_l2).item())\n",
    "\n",
    "\n",
    "        print(f\"Epoch {epoch}, Training Loss: {epoch_loss / len(train_loader)}\")\n",
    "\n",
    "    # Test the model\n",
    "    Z1_test = x_test @ W1 + b1\n",
    "    A1_test = relu(Z1_test)\n",
    "    Z2_test = A1_test @ W2 + b2\n",
    "    Y_pred_test = Z2_test\n",
    "\n",
    "    print(\"\\nFinal Training Loss:\", training_loss[-1])\n",
    "    print(\"Final Test Loss:\", compute_loss(Y_pred_test, y_test, W1, W2, lambda_l2).item())\n",
    "    print(\"Predicted Test Output (first 5):\", Y_pred_test[:5]) \n",
    "    print(\"True Test Output (first 5):\", y_test[:5])  \n",
    "\n",
    "    # Compute W * M as per lab assignment\n",
    "    WM = W1 @ W2  \n",
    "    print(\"Computed W * M:\", WM)\n",
    "\n",
    "    pass "
   ]
  },
  {
   "cell_type": "markdown",
   "id": "f8e8c889",
   "metadata": {},
   "source": [
    "#### Discussion\n",
    "Observing the final training and testing loss, we can see that the model trained quite well, obtaining a final test MSE of ~0.03. Subsequently, the transformation matrix of W1*W2 follows a similar pattern to a 90 degree transformation matrix (minus rounding). With these two observations, it is safe to say that the model is able to learn the transformation matrix of a 90 degree rotation.\n"
   ]
  },
  {
   "cell_type": "markdown",
   "id": "16de058d",
   "metadata": {},
   "source": [
    "### Plot Training and Test loss"
   ]
  },
  {
   "cell_type": "code",
   "execution_count": 132,
   "id": "a41e922f",
   "metadata": {},
   "outputs": [
    {
     "data": {
      "image/png": "[encoded data removed]",
      "text/plain": [
       "<Figure size 640x480 with 1 Axes>"
      ]
     },
     "metadata": {},
     "output_type": "display_data"
    }
   ],
   "source": [
    "import matplotlib.pyplot as plt\n",
    "plt.plot(training_loss, label='Training Loss')\n",
    "plt.plot(test_loss, label='Test Loss')\n",
    "plt.xlabel('Epoch')\n",
    "\n",
    "plt.ylabel('Loss')\n",
    "plt.title('Training Loss vs Test Loss')\n",
    "plt.legend()\n",
    "plt.show()\n"
   ]
  },
  {
   "cell_type": "markdown",
   "id": "955b58df",
   "metadata": {},
   "source": [
    "### Test 1\n",
    "Output should be [0.2185, 0.027], J should be 0.18101"
   ]
  },
  {
   "cell_type": "code",
   "execution_count": 133,
   "id": "6c126d62",
   "metadata": {},
   "outputs": [],
   "source": [
    "X = torch.tensor([[0.105, 0.815]])  \n",
    "W1 = torch.tensor([[0.75, -0.55, 0.25], [0.25, -0.75, -0.15]], requires_grad=True)\n",
    "b1 = torch.tensor([-0.1, 0.2, -0.3], requires_grad=True)  \n",
    "W2 = torch.tensor([[0.1, -0.4], [-0.2, 0.5], [0.3, -0.6]], requires_grad=True)  \n",
    "b2 = torch.tensor([0.2, 0.1], requires_grad=True)  \n",
    "Y_true = torch.tensor([[0.815, 0.105]])\n",
    "lambda_l2 = 0.001\n"
   ]
  },
  {
   "cell_type": "code",
   "execution_count": 134,
   "id": "025f6bb2",
   "metadata": {},
   "outputs": [
    {
     "name": "stdout",
     "output_type": "stream",
     "text": [
      "Predicted Output (Y_pred): tensor([[0.2183, 0.0270]], grad_fn=<AddBackward0>)\n",
      "True Output (Y_true): tensor([[0.8150, 0.1050]])\n",
      "MSE Loss: 0.18109728395938873\n",
      "L2 Regularization Loss: 6.500001472886652e-05\n",
      "Total Loss (MSE + L2 Regularization): 0.1811622828245163\n"
     ]
    }
   ],
   "source": [
    "Z1 = X @ W1 + b1\n",
    "A1 = relu(Z1) \n",
    "Z2 = A1 @ W2 + b2\n",
    "Y_pred = Z2  \n",
    "mse_loss = torch.mean((Y_pred - Y_true) ** 2)\n",
    "l2_reg = lambda_l2/2 * (torch.sum(W1)**2 + torch.sum(W2)**2)\n",
    "total_loss = mse_loss + l2_reg\n",
    "\n",
    "print(\"Predicted Output (Y_pred):\", Y_pred)\n",
    "print(\"True Output (Y_true):\", Y_true)\n",
    "print(\"MSE Loss:\", mse_loss.item())\n",
    "print(\"L2 Regularization Loss:\", l2_reg.item())\n",
    "print(\"Total Loss (MSE + L2 Regularization):\", total_loss.item())"
   ]
  },
  {
   "cell_type": "markdown",
   "id": "27c70366",
   "metadata": {},
   "source": [
    "These values are very close to the output and loss I calculated by hand. The small differences are due to the rounding I did by hand."
   ]
  },
  {
   "cell_type": "markdown",
   "id": "19918b99",
   "metadata": {},
   "source": [
    "## Test 2"
   ]
  },
  {
   "cell_type": "markdown",
   "id": "7a8f9dbb",
   "metadata": {},
   "source": [
    "Output should be [-2.0, 0.5]. J should be 2.215."
   ]
  },
  {
   "cell_type": "code",
   "execution_count": 135,
   "id": "949d104e",
   "metadata": {},
   "outputs": [],
   "source": [
    "X = torch.tensor([[1.0, 0.0]])  \n",
    "W1 = torch.tensor([[1.0, 0.0, 1.0], [0.0, 1.0, 0.0]], requires_grad=True)\n",
    "b1 = torch.tensor([.5, .5, .5], requires_grad=True)  \n",
    "W2 = torch.tensor([[-1.0, 0.0], [0.0, -1.0], [-1.0, 0.0]], requires_grad=True)  \n",
    "b2 = torch.tensor([1.0, 1.0], requires_grad=True)  \n",
    "Y_true = torch.tensor([[0.0, 1.0]])\n",
    "lambda_l2 = 0.01"
   ]
  },
  {
   "cell_type": "code",
   "execution_count": 136,
   "id": "7d0076e7",
   "metadata": {},
   "outputs": [
    {
     "name": "stdout",
     "output_type": "stream",
     "text": [
      "Predicted Output (Y_pred): tensor([[-2.0000,  0.5000]], grad_fn=<AddBackward0>)\n",
      "True Output (Y_true): tensor([[0., 1.]])\n",
      "MSE Loss: 2.125\n",
      "L2 Regularization Loss: 0.08999999612569809\n",
      "Total Loss (MSE + L2 Regularization): 2.2149999141693115\n"
     ]
    }
   ],
   "source": [
    "Z1 = X @ W1 + b1\n",
    "A1 = relu(Z1) \n",
    "Z2 = A1 @ W2 + b2\n",
    "Y_pred = Z2  \n",
    "mse_loss = torch.mean((Y_pred - Y_true) ** 2)\n",
    "l2_reg = lambda_l2/2 * (torch.sum(W1)**2 + torch.sum(W2)**2)\n",
    "total_loss = mse_loss + l2_reg\n",
    "\n",
    "print(\"Predicted Output (Y_pred):\", Y_pred)\n",
    "print(\"True Output (Y_true):\", Y_true)\n",
    "print(\"MSE Loss:\", mse_loss.item())\n",
    "print(\"L2 Regularization Loss:\", l2_reg.item())\n",
    "print(\"Total Loss (MSE + L2 Regularization):\", total_loss.item())"
   ]
  },
  {
   "cell_type": "markdown",
   "id": "06851ab6",
   "metadata": {},
   "source": [
    "These values are very close to the output and loss I calculated by hand. The small differences are due to the rounding I did by hand."
   ]
  }
 ],
 "metadata": {
  "jupytext": {
   "cell_metadata_filter": "-all",
   "formats": "ipynb,py"
  },
  "kernelspec": {
   "display_name": "Python 3",
   "language": "python",
   "name": "python3"
  },
  "language_info": {
   "codemirror_mode": {
    "name": "ipython",
    "version": 3
   },
   "file_extension": ".py",
   "mimetype": "text/x-python",
   "name": "python",
   "nbconvert_exporter": "python",
   "pygments_lexer": "ipython3",
   "version": "3.11.9"
  }
 },
 "nbformat": 4,
 "nbformat_minor": 5
}
